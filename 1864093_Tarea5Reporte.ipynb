{
  "nbformat": 4,
  "nbformat_minor": 0,
  "metadata": {
    "colab": {
      "provenance": [],
      "mount_file_id": "1wzs3T1Zn3PNNGovB3GcNzclkUEqe6Hmp",
      "authorship_tag": "ABX9TyMlPdG63lt3f/4Bb2C62hx1",
      "include_colab_link": true
    },
    "kernelspec": {
      "name": "python3",
      "display_name": "Python 3"
    },
    "language_info": {
      "name": "python"
    }
  },
  "cells": [
    {
      "cell_type": "markdown",
      "metadata": {
        "id": "view-in-github",
        "colab_type": "text"
      },
      "source": [
        "<a href=\"https://colab.research.google.com/github/charbells/1864093_ProcesamientoDeDatos/blob/main/1864093_Tarea5Reporte.ipynb\" target=\"_parent\"><img src=\"https://colab.research.google.com/assets/colab-badge.svg\" alt=\"Open In Colab\"/></a>"
      ]
    },
    {
      "cell_type": "markdown",
      "source": [
        "# Universidad Autónoma de Nuevo León\n",
        "# Facultad de Ciencias Físico Matemáticas\n",
        "# Maestría en Ciencia de Datos\n",
        "\n",
        "## Procesamiento y clasificación de datos\n",
        "\n",
        "###### Erick Charbel Lopez Salazar 1864093"
      ],
      "metadata": {
        "id": "8BxnbE_EDT5u"
      }
    },
    {
      "cell_type": "markdown",
      "source": [
        "## Introducción\n",
        "\n",
        "En los últimos años, el avance de las técnicas de aprendizaje profundo ha revolucionado el campo de la visión por computadora, permitiendo el desarrollo de modelos capaces de reconocer y clasificar imágenes con una precisión cada vez mayor. Este proyecto se enfoca en la implementación de una red neuronal convolucional (CNN por sus siglas en ingles) para la clasificación de imágenes.\n",
        "\n",
        "El objetivo principal es construir y entrenar un modelo que pueda aprender características relevantes de un conjunto de imágenes de animales y utilizarlas para realizar predicciones precisas. Para lograrlo, se exploran conceptos clave como el preprocesamiento de datos, la arquitectura de redes neuronales, la optimización de hiperparámetros y la evaluación del rendimiento del modelo. Además, se aplican técnicas como el aumento de datos (data augmentation) y la regularización para mejorar la generalización del modelo y evitar el sobreajuste.\n",
        "\n",
        "Este proyecto no solo busca demostrar la efectividad de las CNN en tareas de clasificación, sino también proporcionar una base sólida para futuras mejoras y aplicaciones en problemas más complejos. A través de un enfoque práctico y detallado, se busca comprender cómo cada componente del modelo contribuye a su rendimiento final y cómo se pueden ajustar para obtener resultados óptimos.\n",
        "\n",
        "##Datos\n",
        "\n",
        "Los datos utilizados en este proyecto fueron obtenidos de Kaggle. El conjunto de datos consta de imágenes de cinco categorías de animales (Caballo, Elefante, Gallina, Gato y Perro). Cada categoría se encuentra organizada en una carpeta independiente, lo que facilita su manipulación y preprocesamiento. Las imagenes se presentan en diferentes tamaños y formatos como RGB.\n",
        "\n",
        "| Categoria       | Imagenes |\n",
        "|-----------------|----------|\n",
        "| Caballo         | 2623     |\n",
        "| Elefante        | 1446     |\n",
        "| Gallina         | 3098     |\n",
        "| Gato            | 1668     |\n",
        "| Perro           | 4873     |\n",
        "\n",
        "Para el preprocesamiento de los datos se redimencionaron las imagenes a 64x64, todas las imagenes se convirtieron a formato RGB. Adicionalmente, se crearon los vectores de las imagenes y se normalizaron dichos vectores dividiendo entre 255.\n",
        "\n",
        "##Metodología\n",
        "\n",
        "Preprocesamiento de Datos:\n",
        "\n",
        "Se aplicó one-hot encoding a las etiquetas de las imágenes para convertirlas en un formato adecuado para la clasificación multiclase.\n",
        "\n",
        "El conjunto de datos se dividió en conjuntos de entrenamiento y prueba, reservando el 20% de los datos para pruebas.\n",
        "\n",
        "Data Augmentation:\n",
        "\n",
        "Para mejorar la generalización del modelo, se aplicó data augmentation, que incluyó rotaciones, desplazamientos, cambios de tamaño y volteos horizontales de las imágenes.\n",
        "\n",
        "Construcción del Modelo:\n",
        "\n",
        "Se construyó una CNN con dos capas convolucionales, cada una seguida de normalización por lotes, max pooling y dropout para reducir el sobreajuste.\n",
        "\n",
        "La salida de las capas convolucionales se aplanó y se pasó a través de una capa densa antes de llegar a la capa de salida con activación softmax para la clasificación multiclase.\n",
        "\n",
        "Entrenamiento del Modelo:\n",
        "\n",
        "El modelo se compiló utilizando el optimizador Adam con una tasa de aprendizaje de 0.001 y se entrenó durante 30 épocas.\n",
        "\n",
        "Se utilizó data augmentation durante el entrenamiento para mejorar la robustez del modelo.\n",
        "\n",
        "##Resultados\n",
        "La siguiente gráfica muestra como evoluciono el accuracy del modelo tanto para los datos de entrenamiento como los de validación a través de las epocas.\n",
        "\n",
        "![CNN](https://drive.google.com/uc?id=1rf97h2u3ZWElgTQqJ867zij-3UO6Rpwh)\n",
        "\n",
        "Accuracy de Entrenamiento y Validación:\n",
        "\n",
        "El accuracy de entrenamiento y validación se muestra en la gráfica anterior. Se observa que el accuracy de entrenamiento aumenta consistentemente, alcanzando un valor cercano al 70% al final de las 30 épocas.\n",
        "\n",
        "El accuracy de validación también muestra una tendencia al alza, aunque con algunas fluctuaciones, lo que sugiere que el modelo está aprendiendo pero podría beneficiarse de más datos o ajustes adicionales.\n",
        "\n",
        "Evaluación del Modelo:\n",
        "\n",
        "El modelo logra un accuracy de validación superior al 70%, lo que indica que es capaz de generalizar razonablemente bien a datos no vistos, aunque se podria mejorar.\n",
        "\n",
        "##Conclusiones\n",
        "El modelo desarrollado muestra un rendimiento prometedor en la tarea de clasificación de imágenes de animales. Aunque el accuracy de validación es menor que el de entrenamiento, la tendencia positiva sugiere que el modelo está aprendiendo efectivamente. Para futuras mejoras, se podrían considerar las siguientes acciones:\n",
        "\n",
        "Aumentar el Conjunto de Datos: Incluir más imágenes o utilizar técnicas de data augmentation más avanzadas podría ayudar a mejorar la generalización del modelo.\n",
        "\n",
        "Ajustar Hiperparámetros: Experimentar con diferentes tasas de aprendizaje, tamaños de batch o arquitecturas de red podría optimizar el rendimiento.\n",
        "\n",
        "Regularización: Aumentar la regularización o utilizar técnicas como early stopping podría ayudar a reducir el sobreajuste.\n",
        "\n",
        "En resumen, el modelo actual es un buen punto de partida y demuestra la viabilidad de utilizar CNNs para la clasificación de imágenes de animales. Con ajustes adicionales, se espera mejorar aún más su precisión y robustez."
      ],
      "metadata": {
        "id": "cp9tfEGICx1G"
      }
    }
  ]
}