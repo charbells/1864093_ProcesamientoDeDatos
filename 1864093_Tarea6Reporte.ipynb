{
  "nbformat": 4,
  "nbformat_minor": 0,
  "metadata": {
    "colab": {
      "provenance": [],
      "mount_file_id": "1PjUYgbL4nrROPu5465WOMesuZa84PXv8",
      "authorship_tag": "ABX9TyOn/DpDv+7OW2cJabvc4aAT",
      "include_colab_link": true
    },
    "kernelspec": {
      "name": "python3",
      "display_name": "Python 3"
    },
    "language_info": {
      "name": "python"
    }
  },
  "cells": [
    {
      "cell_type": "markdown",
      "metadata": {
        "id": "view-in-github",
        "colab_type": "text"
      },
      "source": [
        "<a href=\"https://colab.research.google.com/github/charbells/1864093_ProcesamientoDeDatos/blob/main/1864093_Tarea6Reporte.ipynb\" target=\"_parent\"><img src=\"https://colab.research.google.com/assets/colab-badge.svg\" alt=\"Open In Colab\"/></a>"
      ]
    },
    {
      "cell_type": "markdown",
      "source": [
        "# Universidad Autónoma de Nuevo León\n",
        "# Facultad de Ciencias Físico Matemáticas\n",
        "# Maestría en Ciencia de Datos\n",
        "\n",
        "## Procesamiento y clasificación de datos\n",
        "\n",
        "###### Erick Charbel Lopez Salazar 1864093"
      ],
      "metadata": {
        "id": "V0Pgm3tLn1eP"
      }
    },
    {
      "cell_type": "markdown",
      "source": [
        "\n",
        "# Características de sonidos\n",
        "\n",
        "#Introducción\n",
        "El análisis de sonidos ambientales es fundamental en aplicaciones como la clasificación automática de audio, la monitorización urbana y sistemas de asistencia por voz. En este estudio, se exploran las características acústicas de diferentes sonidos urbanos utilizando el conjunto de datos UrbanSound8K, disponible en Hugging Face. Este dataset contiene 8,732 audios distribuidos en 10 clases, de las cuales se seleccionaron cinco para su análisis comparativo:\n",
        "\n",
        "*   Air conditioner (Aire acondicionado)\n",
        "\n",
        "*   Car horn (Claxon de automóvil)\n",
        "\n",
        "*   Children playing (Niños jugando)\n",
        "\n",
        "*   Dog bark (Ladrido de perro)\n",
        "\n",
        "*   Street music (Música en la calle)\n",
        "\n",
        "El objetivo es examinar visualmente las diferencias en las representaciones espectrales y temporales de estos sonidos para identificar patrones distintivos entre las clases.\n",
        "\n",
        "\n",
        "\n",
        "#Comparativa\n",
        "![imagen 1](https://drive.google.com/uc?id=1zAVZXDaFYzn0u5itX8ag7sZ0wDwUZA8d)\n",
        "\n",
        "Forma de Onda: Muestra una señal continua con amplitud moderada (-0.8 a 0.8) y patrones repetitivos, típicos de un sonido constante como un aire acondicionado.\n",
        "\n",
        "Espectrograma (log): La energía se concentra en frecuencias medias-altas (hasta -10 dB), con una distribución uniforme en el tiempo.\n",
        "\n",
        "Características Espectrales: Centroide en 3124 Hz y ancho de banda amplio (2931 Hz), indicando un sonido con componentes en un rango amplio de frecuencias.\n",
        "\n",
        "![imagen 2](https://drive.google.com/uc?id=1WiCpaongIG5oBA93merwlgd_rBqeAsvo)\n",
        "\n",
        "Forma de Onda: Señal abrupta con picos de amplitud (hasta 0.19), característica de un sonido impulsivo como un claxon.\n",
        "\n",
        "Espectrograma (log): Energía concentrada en frecuencias altas (hasta 0 dB) con transientes rápidos.\n",
        "\n",
        "Características Espectrales: Centroide en 2617 Hz y roll-off alto (6022 Hz), reflejando componentes agudos y un espectro extendido.\n",
        "\n",
        "![imagen 3](https://drive.google.com/uc?id=1AN1W4B_a4lzZl7evQoexf84rNY6bW_hz)\n",
        "\n",
        "Forma de Onda: Señal irregular con amplitudes bajas (0.03 máx) y variabilidad temporal, típica de voces infantiles y movimiento.\n",
        "\n",
        "Espectrograma (log): Energía distribuida en frecuencias medias (hasta -20 dB), con patrones no periódicos.\n",
        "\n",
        "Características Espectrales: Centroide bajo (2232 Hz) y ancho de banda moderado (2284 Hz), indicando sonidos menos agudos.\n",
        "\n",
        "![imagen 4](https://drive.google.com/uc?id=1SMQZunWU_8ECeVTyfAv-bzusC-ENEF3z)\n",
        "\n",
        "Forma de Onda: Picos abruptos (amplitud 1.0) y corta duración (0.32 s), típicos de un ladrido.\n",
        "\n",
        "Espectrograma (log): Energía concentrada en frecuencias medias-altas (hasta -10 dB) con transientes marcados.\n",
        "\n",
        "Características Espectrales: Centroide en 2501 Hz y roll-off bajo (3253 Hz), mostrando un espectro menos extendido que el claxon.\n",
        "\n",
        "![imagen 5](https://drive.google.com/uc?id=15x62QNZdydegpYQo10lx3jxUTMJMKFk1)\n",
        "\n",
        "Forma de Onda: Señal variable con amplitud moderada (0.25 máx) y patrones complejos, reflejando instrumentos o voces.\n",
        "\n",
        "Espectrograma (log): Energía en frecuencias medias-altas (hasta 8000 Hz), con estructura armónica.\n",
        "\n",
        "Características Espectrales: Centroide bajo (1939 Hz) pero ancho de banda amplio (3242 Hz), típico de música con diversidad de tonos.\n",
        "\n",
        "Tabla resume las propiedades acústicas clave:\n",
        "\n",
        "![imagen 6](https://drive.google.com/uc?id=1ZhVJNaVdujpQMWhxh5bTdZbQGMJWvmAb)\n",
        "\n",
        "# Conclusiones\n",
        "\n",
        "###Amplitud:\n",
        "Los sonidos impulsivos (claxon, ladrido) tienen amplitudes máximas altas pero corta duración, mientras que los continuos (aire acondicionado, música) muestran amplitudes menores pero sostenidas.\n",
        "\n",
        "###Espectro:\n",
        "\n",
        "Aire acondicionado: Espectro uniforme y amplio (centroide alto + ancho de banda grande).\n",
        "\n",
        "Claxon y ladrido: Componentes agudos (roll-off alto en claxon), pero el ladrido tiene menor extensión espectral.\n",
        "\n",
        "Niños/Música: Espectros menos agudos (centroides bajos), con música mostrando mayor diversidad armónica.\n",
        "\n",
        "###Temporalidad:\n",
        "\n",
        "Sonidos como el ladrido y claxon son transitorios (menos de 1s), mientras que los demás son prolongados (4s).\n",
        "\n",
        "Las características espectrales y temporales permiten diferenciar claramente sonidos continuos de impulsivos, así como identificar fuentes por su distribución de energía (ej: claxon vs. música). El centroide y el roll-off son críticos para distinguir sonidos agudos (claxon) de los menos complejos (niños)."
      ],
      "metadata": {
        "id": "elu6GzPmYCes"
      }
    }
  ]
}