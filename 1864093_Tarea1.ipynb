{
  "nbformat": 4,
  "nbformat_minor": 0,
  "metadata": {
    "colab": {
      "provenance": [],
      "mount_file_id": "1PjUYgbL4nrROPu5465WOMesuZa84PXv8",
      "authorship_tag": "ABX9TyOxsUSfX0PT0uSI5OdNR7nK",
      "include_colab_link": true
    },
    "kernelspec": {
      "name": "python3",
      "display_name": "Python 3"
    },
    "language_info": {
      "name": "python"
    }
  },
  "cells": [
    {
      "cell_type": "markdown",
      "metadata": {
        "id": "view-in-github",
        "colab_type": "text"
      },
      "source": [
        "<a href=\"https://colab.research.google.com/github/charbells/1864093_ProcesamientoDeDatos/blob/main/1864093_Tarea1.ipynb\" target=\"_parent\"><img src=\"https://colab.research.google.com/assets/colab-badge.svg\" alt=\"Open In Colab\"/></a>"
      ]
    },
    {
      "cell_type": "markdown",
      "source": [
        "# Universidad Autónoma de Nuevo León\n",
        "# Facultad de Ciencias Físico Matemáticas\n",
        "# Maestría en Ciencia de Datos\n",
        "\n",
        "## Procesamiento y clasificación de datos\n",
        "\n",
        "###### Erick Charbel Lopez Salazar 1864093"
      ],
      "metadata": {
        "id": "V0Pgm3tLn1eP"
      }
    },
    {
      "cell_type": "markdown",
      "source": [
        "\n",
        "#Análisis estadístico de datos textuales\n",
        "\n",
        "##Introducción\n",
        "El análisis de texto permite responder preguntas clave sobre el contenido, el estilo y la estructura de los textos, así como identificar temas recurrentes, clasificar documentos, analizar sentimientos o incluso predecir comportamientos basados en el texto. Las técnicas comunes incluyen análisis de frecuencia de palabras, modelado de temas, análisis de sentimientos, construcción de n-gramas y extracción de términos clave, entre otras.\n",
        "\n",
        "En el presente trabajo se generan estadisticas descriptibas de frecuencia de palabras, bigramas y nubes de palabras de la fuente de dos libros literarios.\n",
        "\n",
        "##Datos\n",
        "Los datos fueron extraidos del proyecto Gutenberg a traves de la libreria \"gutenbergpy.textget\", los dos libros que se seleccionaron son *Some short christmas stories* de Charles Dickens y *Famous modern ghost stories* de Dorothy Scarborough\n",
        "\n",
        "## Frecuencia de Palabras - Gráficos de Barras\n",
        "\n",
        "### Some short christmas stories\n",
        "![Top 10 Word Frequencies - SOME_SHORT_CHRISTMAS_STORIES](https://drive.google.com/uc?id=1-_4pGUKzJC-rd9B0hoP4OUix40gLkXxd)\n",
        "\n",
        "### Famous modern ghost stories\n",
        "![Top 10 Word Frequencies - FAMOUS_MODERN_GHOST_STORIES](https://drive.google.com/uc?id=1-YR6Jq27S5g5CLX7eN9W3JWqou70FKFP)\n",
        "\n",
        "De los graficos de frecuencias anteriores se observa que ambos textos tienen palabras con alta frecuencia en común, como lo es el caso de **said, one, little y upon**. Esto se asocia al hecho de que ambos textos son sobre cuentos o historias cortas.\n",
        "\n",
        "## Nube de palabras\n",
        "\n",
        "### Some short christmas stories\n",
        "![WordCloud - SOME_SHORT_CHRISTMAS_STORIES](https://drive.google.com/uc?id=1-iHdXMFB63xw-xTBGZ8nEhuUrJ6KMZbu)\n",
        "\n",
        "### Famous modern ghost stories\n",
        "![WordCloud - FAMOUS_MODERN_GHOST_STORIES](https://drive.google.com/uc?id=1-dQtysFh6JWRMsPd86tcpmqXyUY3LvPo)\n",
        "\n",
        "En las nubes de palabras que se muestran se tienen palabras que hacen alusión a la ambientacion  y características descriptivas como lo son **night, house, tree, little, young y old**.\n",
        "\n",
        "## Bi-gramas más Comunes\n",
        "\n",
        "### Some short christmas stories\n",
        "![N-gramas más comunes en SOME_SHORT_CHRISTMAS_STORIES](https://drive.google.com/uc?id=1-b-Cg8FtQAeMveSG1sMDeMYZmbYFpfcG)\n",
        "\n",
        "### Famous modern ghost stories\n",
        "![N-gramas más comunes en FAMOUS_MODERN_GHOST_STORIES](https://drive.google.com/uc?id=1-_rpFc_AqCMJzgBOGhOaDvhbKuedd1CQ)\n",
        "\n",
        "Aunque ambos textos tienen palabras en común que usan frecuentemente, en los graficos de bigramas no se observa que tengan pares de palabras similares. A su vez, se muestra que los bigramas mas frecuentes son nombres de personajes dentro de los textos.\n",
        "\n",
        "##Conclusiones\n",
        "El análisis estadístico de las fuentes textuales seleccionadas permitió identificar características relevantes en la estructura y contenido de ambos textos. A pesar de que las palabras más frecuentes presentan similitudes, como \"said\", \"one\", \"little\" y \"upon\", lo cual refleja el estilo narrar historias cortas, las diferencias se observan al observar los bigramas. En este caso, se evidenció que los pares de palabras más recurrentes están relacionados con personajes o contextos específicos de cada obra donde una trata de temas de navidad y la otra de fantasmas.\n",
        "\n",
        "Además, en las nubes de palabras se pueden identificar términos que aportan a la ambientación y al tono descriptivo de las historias, como \"night\", \"house\", \"tree\", \"young\" y \"old\". Estos hallazgos reflejan la manera en que ambos autores utilizan el lenguaje para construir sus historias en base a la tematica de cada libro.\n",
        "\n",
        "En conjunto, este análisis reafirma el valor de las herramientas estadísticas aplicadas a textos literarios, no solo para extraer patrones generales, sino también para destacar las particularidades que hacen único a cada texto."
      ],
      "metadata": {
        "id": "elu6GzPmYCes"
      }
    }
  ]
}