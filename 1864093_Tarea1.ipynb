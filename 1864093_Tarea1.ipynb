{
  "nbformat": 4,
  "nbformat_minor": 0,
  "metadata": {
    "colab": {
      "provenance": [],
      "mount_file_id": "1PjUYgbL4nrROPu5465WOMesuZa84PXv8",
      "authorship_tag": "ABX9TyOzuB1+uAqv6Jp2VAWd4I8b",
      "include_colab_link": true
    },
    "kernelspec": {
      "name": "python3",
      "display_name": "Python 3"
    },
    "language_info": {
      "name": "python"
    }
  },
  "cells": [
    {
      "cell_type": "markdown",
      "metadata": {
        "id": "view-in-github",
        "colab_type": "text"
      },
      "source": [
        "<a href=\"https://colab.research.google.com/github/charbells/1864093_ProcesamientoDeDatos/blob/main/1864093_Tarea1.ipynb\" target=\"_parent\"><img src=\"https://colab.research.google.com/assets/colab-badge.svg\" alt=\"Open In Colab\"/></a>"
      ]
    },
    {
      "cell_type": "markdown",
      "source": [
        "\n",
        "# Análisis de Frecuencias y N-gramas\n",
        "\n",
        "## Frecuencia de Palabras - Gráficos de Barras\n",
        "\n",
        "### SOME_SHORT_CHRISTMAS_STORIES\n",
        "![Top 10 Word Frequencies - SOME_SHORT_CHRISTMAS_STORIES](https://drive.google.com/uc?id=1-_4pGUKzJC-rd9B0hoP4OUix40gLkXxd)\n",
        "\n",
        "### FAMOUS_MODERN_GHOST_STORIES\n",
        "![Top 10 Word Frequencies - FAMOUS_MODERN_GHOST_STORIES](https://drive.google.com/uc?id=1-YR6Jq27S5g5CLX7eN9W3JWqou70FKFP)\n",
        "\n",
        "## N-gramas más Comunes\n",
        "\n",
        "### SOME_SHORT_CHRISTMAS_STORIES\n",
        "![N-gramas más comunes en SOME_SHORT_CHRISTMAS_STORIES](https://drive.google.com/uc?id=1-b-Cg8FtQAeMveSG1sMDeMYZmbYFpfcG)\n",
        "\n",
        "### FAMOUS_MODERN_GHOST_STORIES\n",
        "![N-gramas más comunes en FAMOUS_MODERN_GHOST_STORIES](https://drive.google.com/uc?id=1-_rpFc_AqCMJzgBOGhOaDvhbKuedd1CQ)\n",
        "\n",
        "## WordClouds\n",
        "\n",
        "### SOME_SHORT_CHRISTMAS_STORIES\n",
        "![WordCloud - SOME_SHORT_CHRISTMAS_STORIES](https://drive.google.com/uc?id=1-iHdXMFB63xw-xTBGZ8nEhuUrJ6KMZbu)\n",
        "\n",
        "### FAMOUS_MODERN_GHOST_STORIES\n",
        "![WordCloud - FAMOUS_MODERN_GHOST_STORIES](https://drive.google.com/uc?id=1-dQtysFh6JWRMsPd86tcpmqXyUY3LvPo)\n"
      ],
      "metadata": {
        "id": "elu6GzPmYCes"
      }
    }
  ]
}