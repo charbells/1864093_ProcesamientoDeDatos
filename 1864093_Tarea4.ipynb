{
  "nbformat": 4,
  "nbformat_minor": 0,
  "metadata": {
    "colab": {
      "provenance": [],
      "mount_file_id": "1PjUYgbL4nrROPu5465WOMesuZa84PXv8",
      "authorship_tag": "ABX9TyMUo7NFEPMrg1UNYDRG2Fxi",
      "include_colab_link": true
    },
    "kernelspec": {
      "name": "python3",
      "display_name": "Python 3"
    },
    "language_info": {
      "name": "python"
    }
  },
  "cells": [
    {
      "cell_type": "markdown",
      "metadata": {
        "id": "view-in-github",
        "colab_type": "text"
      },
      "source": [
        "<a href=\"https://colab.research.google.com/github/charbells/1864093_ProcesamientoDeDatos/blob/main/1864093_Tarea4.ipynb\" target=\"_parent\"><img src=\"https://colab.research.google.com/assets/colab-badge.svg\" alt=\"Open In Colab\"/></a>"
      ]
    },
    {
      "cell_type": "markdown",
      "source": [
        "# Universidad Autónoma de Nuevo León\n",
        "# Facultad de Ciencias Físico Matemáticas\n",
        "# Maestría en Ciencia de Datos\n",
        "\n",
        "## Procesamiento y clasificación de datos\n",
        "\n",
        "###### Erick Charbel Lopez Salazar 1864093"
      ],
      "metadata": {
        "id": "V0Pgm3tLn1eP"
      }
    },
    {
      "cell_type": "markdown",
      "source": [
        "\n",
        "#Detección de circulos en imagenes\n",
        "\n",
        "##Introducción\n",
        "En este reporte, se implementó un algoritmo basado en la Transformada de Hough para la detección de círculos en un conjunto de imágenes. Se procesaron múltiples archivos almacenados en una carpeta, aplicando técnicas de preprocesamiento como la conversión a escala de grises y el filtrado mediante desenfoque Gaussiano para mejorar la detección. Además, se ajustaron los parámetros del algoritmo para reducir falsos positivos y filtrar círculos irrelevantes.\n",
        "\n",
        "##Datos\n",
        "Las imagenes se obtuvieron directamente de internet.\n",
        "\n",
        "##Imagenes\n",
        "La deteccion de circulos en imagenes se muestra a continuación:\n",
        "\n",
        "![imagen 1](https://drive.google.com/uc?id=1bj5-ZW5xIm377sDAFCQLrT4cXV6ES5MJ)\n",
        "\n",
        "![imagen 2](https://drive.google.com/uc?id=1fzpk4ZecPQVclPk3xt8tN6obt0ROiYID)\n",
        "\n",
        "![imagen 3](https://drive.google.com/uc?id=1Py2AUwCF53ya5--VF9_XEppi5OVc1Zyg)\n",
        "\n",
        "![imagen 4](https://drive.google.com/uc?id=1qpxNvcCOFr3ZarwXsvsCmgT4w97shgtj)\n",
        "\n",
        "![imagen 5](https://drive.google.com/uc?id=1Xu8FC0JwakzKmBtXbQmLYiebKmHL7rfq)\n",
        "\n",
        "Solo en una de las imagenes se obtuvo un resultado favorable, donde se detectó correctamente el circulo en la imagen, sin embargo, es la unica imagen que no presenta mucho ruido.\n",
        "\n",
        "##Conclusiones\n",
        "El uso de la Transformada de Hough para la detección de círculos demostró ser una herramienta efectiva para identificar objetos circulares en imágenes. Sin embargo, la calidad de los resultados depende en gran medida del preprocesamiento de las imagenes y de la calibración adecuada de los parámetros.\n",
        "\n",
        "En este trabajo, se logró mejorar la precisión de la detección ajustando los valores de umbral y radio mínimo/máximo, así como filtrando objetos no deseados. A pesar de ello, algunos desafíos persisten, como la presencia de reflejos y texturas que pueden generar falsos positivos."
      ],
      "metadata": {
        "id": "elu6GzPmYCes"
      }
    },
    {
      "cell_type": "code",
      "source": [],
      "metadata": {
        "id": "XZrhUSCDPR2r"
      },
      "execution_count": null,
      "outputs": []
    }
  ]
}