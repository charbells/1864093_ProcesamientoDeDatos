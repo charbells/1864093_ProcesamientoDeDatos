{
  "nbformat": 4,
  "nbformat_minor": 0,
  "metadata": {
    "colab": {
      "provenance": [],
      "mount_file_id": "1PjUYgbL4nrROPu5465WOMesuZa84PXv8",
      "authorship_tag": "ABX9TyPREH9LzCdnOYholOBazJeH",
      "include_colab_link": true
    },
    "kernelspec": {
      "name": "python3",
      "display_name": "Python 3"
    },
    "language_info": {
      "name": "python"
    }
  },
  "cells": [
    {
      "cell_type": "markdown",
      "metadata": {
        "id": "view-in-github",
        "colab_type": "text"
      },
      "source": [
        "<a href=\"https://colab.research.google.com/github/charbells/1864093_ProcesamientoDeDatos/blob/main/1864093_Tarea2.ipynb\" target=\"_parent\"><img src=\"https://colab.research.google.com/assets/colab-badge.svg\" alt=\"Open In Colab\"/></a>"
      ]
    },
    {
      "cell_type": "markdown",
      "source": [
        "# Universidad Autónoma de Nuevo León\n",
        "# Facultad de Ciencias Físico Matemáticas\n",
        "# Maestría en Ciencia de Datos\n",
        "\n",
        "## Procesamiento y clasificación de datos\n",
        "\n",
        "###### Erick Charbel Lopez Salazar 1864093"
      ],
      "metadata": {
        "id": "V0Pgm3tLn1eP"
      }
    },
    {
      "cell_type": "markdown",
      "source": [
        "\n",
        "#Análisis de sentimientos\n",
        "\n",
        "##Introducción\n",
        "El análisis de sentimiento es una técnica de procesamiento de lenguaje natural (NLP) que busca identificar, extraer y clasificar las emociones expresadas en un texto. Esta metodología permite determinar si un texto refleja una opinión positiva, negativa o neutral, lo que lo convierte en una herramienta clave para comprender las percepciones y opiniones de los usuarios en diversas plataformas.\n",
        "\n",
        "En la actualidad millones de usuarios interactúan a través de redes sociales, foros, reseñas de productos y servicios, el análisis de sentimiento ha cobrado relevancia en campos como el marketing, la atención al cliente, el análisis de productos, la política y más. Por ejemplo, las empresas pueden usar esta técnica para monitorear la satisfacción de sus clientes, medir la recepción de sus campañas publicitarias o identificar posibles áreas de mejora en sus servicios.\n",
        "\n",
        "##Datos\n",
        "La base de datos se obtuvo de Kaggle, presenta reseñas y calificaciones del producto Alexa de amazon. La base contiene 3150 reseñas en total.\n",
        "\n",
        "La tabla siguiente muestra las primeras 10 reseñas, donde cada observación tiene el campo de la calificacion que se le dió al producto, la variacion del producto (en este caso, Alexa de amazon) y la reseña en texto.\n",
        "\n",
        "![Top 10 Word Frequencies - Reviews](https://drive.google.com/uc?id=1-Rh2luuZ_L-YXvvbYQvzbQ3NRFlUBGjt)\n",
        "\n",
        "##Gráfico de frecuencia\n",
        "![Top 20 Word Frequencies - Reviews](https://drive.google.com/uc?id=1--1eoFsQkOgdNWivVowgZ0VoANetgLib)\n",
        "\n",
        "El gráfico anteriro muestra que la mayoria de palabras que utilizan las reseñas son positivas como **love, grat, like, good**. A su vez, se observa que se utilizan palabras que describen el producto tal como **music, sound, speaker**.\n",
        "\n",
        "##Análisis\n",
        "Para el análisis de sentimiento se utilizó la libreria \"nltk\" de python utilizando al herramienta \"vader\" para generar el porcentaje de positividad, neutralidad y negatividad de las reseñas de Amazon.\n",
        "\n",
        "![Análsiis - 20 reseñas](https://drive.google.com/uc?id=1-IaLLMmb8zxNGd0KJfD-Bi3VJBdB-EZm)\n",
        "\n",
        "En la tabla anterior se observa como los resultados obtenidos en base al modelo de lenguaje natural para obtener la polaridad de los textos resulta ser muy similar a las calificaciones que los usuarios otorgan al producto, con excepción a las reseñas con una palabra, o palabras muy neutrales.\n",
        "\n",
        "##Conclusiones\n",
        "El análisis de sentimientos aplicado a las reseñas de productos Alexa de Amazon demuestra una fuerte correlación entre las calificaciones otorgadas por los usuarios y los resultados del modelo de lenguaje natural (VADER). Las palabras más frecuentes en las reseñas reflejan una tendencia positiva hacia el producto, utilizando términos como \"love\", \"great\", \"like\" y \"good\". Esto sugiere que la percepción general de los usuarios es favorable.\n",
        "\n",
        "Sin embargo, también se identificaron ciertos casos en los que las reseñas cortas o neutras no fueron correctamente clasificadas, lo que indica una limitación del modelo para interpretar contextos más ambiguos o con poca información. Este hallazgo resalta la importancia de complementar el análisis de sentimiento con un preprocesamiento adecuado y, potencialmente, con otros modelos de clasificación más avanzados para capturar mejor la complejidad de ciertas opiniones."
      ],
      "metadata": {
        "id": "elu6GzPmYCes"
      }
    },
    {
      "cell_type": "code",
      "source": [],
      "metadata": {
        "id": "XZrhUSCDPR2r"
      },
      "execution_count": null,
      "outputs": []
    }
  ]
}